{
 "cells": [
  {
   "cell_type": "code",
   "execution_count": 67,
   "metadata": {},
   "outputs": [],
   "source": [
    "import numpy as np\n",
    "import pandas as pd\n",
    "import matplotlib.pyplot as plt\n",
    "from sklearn.ensemble import RandomForestClassifier\n"
   ]
  },
  {
   "cell_type": "code",
   "execution_count": 79,
   "metadata": {},
   "outputs": [
    {
     "name": "stdout",
     "output_type": "stream",
     "text": [
      "<class 'pandas.core.frame.DataFrame'>\n",
      "Int64Index: 1151 entries, 304 to 9987\n",
      "Data columns (total 3 columns):\n",
      " #   Column    Non-Null Count  Dtype  \n",
      "---  ------    --------------  -----  \n",
      " 0   target    1151 non-null   float64\n",
      " 1   feature1  1151 non-null   int64  \n",
      " 2   feature2  1151 non-null   int64  \n",
      "dtypes: float64(1), int64(2)\n",
      "memory usage: 36.0 KB\n"
     ]
    },
    {
     "name": "stderr",
     "output_type": "stream",
     "text": [
      "/var/folders/fw/wcny00cj4671kf0vmzkgjxy80000gn/T/ipykernel_13321/2172190712.py:4: FutureWarning: In a future version of pandas all arguments of DataFrame.drop except for the argument 'labels' will be keyword-only\n",
      "  df.drop(df.columns.difference(['target','feature1','feature2']), 1, inplace=True)\n"
     ]
    }
   ],
   "source": [
    "file = '/Users/iblackjesus/Desktop/Test_feb22.csv'\n",
    "df = pd.read_csv(file,delimiter=',')\n",
    "df = df.dropna(axis=0)\n",
    "df.drop(df.columns.difference(['target','feature1','feature2']), 1, inplace=True)\n",
    "df.info()\n"
   ]
  },
  {
   "cell_type": "code",
   "execution_count": 80,
   "metadata": {},
   "outputs": [
    {
     "data": {
      "text/plain": [
       "Text(0.5, 1.0, 'Значимость признаков')"
      ]
     },
     "execution_count": 80,
     "metadata": {},
     "output_type": "execute_result"
    },
    {
     "data": {
      "image/png": "[encoded data removed]",
      "text/plain": [
       "<Figure size 432x288 with 1 Axes>"
      ]
     },
     "metadata": {
      "needs_background": "light"
     },
     "output_type": "display_data"
    }
   ],
   "source": [
    "target = df['target']\n",
    "features = df[['feature1','feature2']]\n",
    "\n",
    "fig, ax = plt.subplots()\n",
    "clf = RandomForestClassifier()\n",
    "# создаем диаграмму, где ось x - это признак, а Y указывает значимость каждого признака\n",
    "clf.fit(features, target)\n",
    "plt.bar(features.columns, clf.feature_importances_)\n",
    "ax.set_ylabel('Целевая переменная')\n",
    "ax.set_xlabel('Признаки')\n",
    "ax.set_title('Значимость признаков')\n"
   ]
  },
  {
   "cell_type": "markdown",
   "metadata": {},
   "source": [
    "Из графика видно, что признак feature1 имеет высокую статистическую значимость при выдачи займа нежели признак feature2 "
   ]
  }
 ],
 "metadata": {
  "interpreter": {
   "hash": "aee8b7b246df8f9039afb4144a1f6fd8d2ca17a180786b69acc140d282b71a49"
  },
  "kernelspec": {
   "display_name": "Python 3.10.1 64-bit",
   "language": "python",
   "name": "python3"
  },
  "language_info": {
   "codemirror_mode": {
    "name": "ipython",
    "version": 3
   },
   "file_extension": ".py",
   "mimetype": "text/x-python",
   "name": "python",
   "nbconvert_exporter": "python",
   "pygments_lexer": "ipython3",
   "version": "3.10.1"
  },
  "orig_nbformat": 4
 },
 "nbformat": 4,
 "nbformat_minor": 2
}
