{
 "cells": [
  {
   "cell_type": "markdown",
   "metadata": {},
   "source": [
    "# Тестовое задание\n",
    "\n",
    "В данном задании необходимо написать код, который считает следующие признаки для каждого клиента `user_id`:\n",
    "\n",
    "1. `events_ordinal_number` - порядковый номер события\n",
    "2. `second_event_time` - время второго события\n",
    "2.\t`loan_ordinal_number` - порядковый номер займа\n",
    "2.\t`events_time_diff` - разница во времени между событиями\n",
    "2.\t`previous_loans_max_amount` - максимальная сумма предыдущего займа.\n"
   ]
  },
  {
   "cell_type": "markdown",
   "metadata": {},
   "source": [
    "### Подготовка датафрейма"
   ]
  },
  {
   "cell_type": "code",
   "execution_count": 164,
   "metadata": {
    "ExecuteTime": {
     "end_time": "2022-01-31T03:49:42.126788Z",
     "start_time": "2022-01-31T03:49:42.123378Z"
    }
   },
   "outputs": [],
   "source": [
    "import numpy as np\n",
    "import pandas as pd\n",
    "from datetime import datetime"
   ]
  },
  {
   "cell_type": "code",
   "execution_count": 165,
   "metadata": {
    "ExecuteTime": {
     "end_time": "2022-01-31T03:49:43.232607Z",
     "start_time": "2022-01-31T03:49:42.885224Z"
    }
   },
   "outputs": [],
   "source": [
    "size = 10000\n",
    "\n",
    "df = pd.DataFrame(\n",
    "    {\n",
    "        'time': [*pd.date_range('2001-01-01', '2020-09-01', freq='1h')][:size],\n",
    "        'user_id': np.random.choice(1000, size),\n",
    "        'type': np.random.choice(2, size, p=[0.8, 0.2]),\n",
    "        'amount': [int(x//1) for x in  np.random.normal(15_000, 1_000, size)],\n",
    "        'target': np.random.choice(2, size, p=[0.5, 0.5]),\n",
    "    },\n",
    "    index=[*range(size)],\n",
    ")"
   ]
  },
  {
   "cell_type": "code",
   "execution_count": 166,
   "metadata": {
    "ExecuteTime": {
     "end_time": "2022-01-31T03:49:46.319681Z",
     "start_time": "2022-01-31T03:49:46.314034Z"
    }
   },
   "outputs": [],
   "source": [
    "df['is_loan'] = df['type']\n",
    "df['type'] = df['type'].replace({0: 'loanRequest', 1: 'loan'})"
   ]
  },
  {
   "cell_type": "code",
   "execution_count": 167,
   "metadata": {
    "ExecuteTime": {
     "end_time": "2022-01-31T03:49:47.046951Z",
     "start_time": "2022-01-31T03:49:47.008314Z"
    }
   },
   "outputs": [],
   "source": [
    "df.to_csv('test_origin.csv', index=False)"
   ]
  },
  {
   "cell_type": "markdown",
   "metadata": {},
   "source": [
    "### Расчет признаков"
   ]
  },
  {
   "cell_type": "markdown",
   "metadata": {},
   "source": [
    "#### Признак `events_ordinal_number`"
   ]
  },
  {
   "cell_type": "code",
   "execution_count": 168,
   "metadata": {
    "ExecuteTime": {
     "end_time": "2022-01-31T03:51:18.742585Z",
     "start_time": "2022-01-31T03:51:18.739041Z"
    }
   },
   "outputs": [],
   "source": [
    "# весь код расчета признака должен быть в этом методе\n",
    "def calculate_events_number(df):\n",
    "    df['events_ordinal_number'] = df.sort_values('time').groupby('user_id').cumcount()+1\n",
    "    return df\n"
   ]
  },
  {
   "cell_type": "code",
   "execution_count": 169,
   "metadata": {},
   "outputs": [
    {
     "data": {
      "text/html": [
       "<div>\n",
       "<style scoped>\n",
       "    .dataframe tbody tr th:only-of-type {\n",
       "        vertical-align: middle;\n",
       "    }\n",
       "\n",
       "    .dataframe tbody tr th {\n",
       "        vertical-align: top;\n",
       "    }\n",
       "\n",
       "    .dataframe thead th {\n",
       "        text-align: right;\n",
       "    }\n",
       "</style>\n",
       "<table border=\"1\" class=\"dataframe\">\n",
       "  <thead>\n",
       "    <tr style=\"text-align: right;\">\n",
       "      <th></th>\n",
       "      <th>time</th>\n",
       "      <th>user_id</th>\n",
       "      <th>type</th>\n",
       "      <th>amount</th>\n",
       "      <th>target</th>\n",
       "      <th>is_loan</th>\n",
       "      <th>events_ordinal_number</th>\n",
       "    </tr>\n",
       "  </thead>\n",
       "  <tbody>\n",
       "    <tr>\n",
       "      <th>913</th>\n",
       "      <td>2001-02-08 01:00:00</td>\n",
       "      <td>0</td>\n",
       "      <td>loanRequest</td>\n",
       "      <td>15192</td>\n",
       "      <td>0</td>\n",
       "      <td>0</td>\n",
       "      <td>1</td>\n",
       "    </tr>\n",
       "    <tr>\n",
       "      <th>1109</th>\n",
       "      <td>2001-02-16 05:00:00</td>\n",
       "      <td>0</td>\n",
       "      <td>loanRequest</td>\n",
       "      <td>13831</td>\n",
       "      <td>1</td>\n",
       "      <td>0</td>\n",
       "      <td>2</td>\n",
       "    </tr>\n",
       "    <tr>\n",
       "      <th>1523</th>\n",
       "      <td>2001-03-05 11:00:00</td>\n",
       "      <td>0</td>\n",
       "      <td>loanRequest</td>\n",
       "      <td>15580</td>\n",
       "      <td>1</td>\n",
       "      <td>0</td>\n",
       "      <td>3</td>\n",
       "    </tr>\n",
       "    <tr>\n",
       "      <th>1967</th>\n",
       "      <td>2001-03-23 23:00:00</td>\n",
       "      <td>0</td>\n",
       "      <td>loanRequest</td>\n",
       "      <td>16419</td>\n",
       "      <td>0</td>\n",
       "      <td>0</td>\n",
       "      <td>4</td>\n",
       "    </tr>\n",
       "    <tr>\n",
       "      <th>2085</th>\n",
       "      <td>2001-03-28 21:00:00</td>\n",
       "      <td>0</td>\n",
       "      <td>loanRequest</td>\n",
       "      <td>16067</td>\n",
       "      <td>0</td>\n",
       "      <td>0</td>\n",
       "      <td>5</td>\n",
       "    </tr>\n",
       "    <tr>\n",
       "      <th>2787</th>\n",
       "      <td>2001-04-27 03:00:00</td>\n",
       "      <td>0</td>\n",
       "      <td>loanRequest</td>\n",
       "      <td>16969</td>\n",
       "      <td>1</td>\n",
       "      <td>0</td>\n",
       "      <td>6</td>\n",
       "    </tr>\n",
       "    <tr>\n",
       "      <th>3208</th>\n",
       "      <td>2001-05-14 16:00:00</td>\n",
       "      <td>0</td>\n",
       "      <td>loanRequest</td>\n",
       "      <td>14689</td>\n",
       "      <td>1</td>\n",
       "      <td>0</td>\n",
       "      <td>7</td>\n",
       "    </tr>\n",
       "    <tr>\n",
       "      <th>3392</th>\n",
       "      <td>2001-05-22 08:00:00</td>\n",
       "      <td>0</td>\n",
       "      <td>loan</td>\n",
       "      <td>14605</td>\n",
       "      <td>1</td>\n",
       "      <td>1</td>\n",
       "      <td>8</td>\n",
       "    </tr>\n",
       "    <tr>\n",
       "      <th>4335</th>\n",
       "      <td>2001-06-30 15:00:00</td>\n",
       "      <td>0</td>\n",
       "      <td>loanRequest</td>\n",
       "      <td>13547</td>\n",
       "      <td>1</td>\n",
       "      <td>0</td>\n",
       "      <td>9</td>\n",
       "    </tr>\n",
       "    <tr>\n",
       "      <th>4754</th>\n",
       "      <td>2001-07-18 02:00:00</td>\n",
       "      <td>0</td>\n",
       "      <td>loanRequest</td>\n",
       "      <td>14525</td>\n",
       "      <td>0</td>\n",
       "      <td>0</td>\n",
       "      <td>10</td>\n",
       "    </tr>\n",
       "    <tr>\n",
       "      <th>4786</th>\n",
       "      <td>2001-07-19 10:00:00</td>\n",
       "      <td>0</td>\n",
       "      <td>loanRequest</td>\n",
       "      <td>14178</td>\n",
       "      <td>0</td>\n",
       "      <td>0</td>\n",
       "      <td>11</td>\n",
       "    </tr>\n",
       "    <tr>\n",
       "      <th>7042</th>\n",
       "      <td>2001-10-21 10:00:00</td>\n",
       "      <td>0</td>\n",
       "      <td>loanRequest</td>\n",
       "      <td>13610</td>\n",
       "      <td>0</td>\n",
       "      <td>0</td>\n",
       "      <td>12</td>\n",
       "    </tr>\n",
       "    <tr>\n",
       "      <th>8731</th>\n",
       "      <td>2001-12-30 19:00:00</td>\n",
       "      <td>0</td>\n",
       "      <td>loanRequest</td>\n",
       "      <td>14028</td>\n",
       "      <td>0</td>\n",
       "      <td>0</td>\n",
       "      <td>13</td>\n",
       "    </tr>\n",
       "    <tr>\n",
       "      <th>9347</th>\n",
       "      <td>2002-01-25 11:00:00</td>\n",
       "      <td>0</td>\n",
       "      <td>loanRequest</td>\n",
       "      <td>14709</td>\n",
       "      <td>1</td>\n",
       "      <td>0</td>\n",
       "      <td>14</td>\n",
       "    </tr>\n",
       "    <tr>\n",
       "      <th>9436</th>\n",
       "      <td>2002-01-29 04:00:00</td>\n",
       "      <td>0</td>\n",
       "      <td>loanRequest</td>\n",
       "      <td>15627</td>\n",
       "      <td>0</td>\n",
       "      <td>0</td>\n",
       "      <td>15</td>\n",
       "    </tr>\n",
       "    <tr>\n",
       "      <th>9833</th>\n",
       "      <td>2002-02-14 17:00:00</td>\n",
       "      <td>0</td>\n",
       "      <td>loanRequest</td>\n",
       "      <td>15119</td>\n",
       "      <td>1</td>\n",
       "      <td>0</td>\n",
       "      <td>16</td>\n",
       "    </tr>\n",
       "    <tr>\n",
       "      <th>9957</th>\n",
       "      <td>2002-02-19 21:00:00</td>\n",
       "      <td>0</td>\n",
       "      <td>loanRequest</td>\n",
       "      <td>14560</td>\n",
       "      <td>0</td>\n",
       "      <td>0</td>\n",
       "      <td>17</td>\n",
       "    </tr>\n",
       "    <tr>\n",
       "      <th>203</th>\n",
       "      <td>2001-01-09 11:00:00</td>\n",
       "      <td>1</td>\n",
       "      <td>loanRequest</td>\n",
       "      <td>14701</td>\n",
       "      <td>1</td>\n",
       "      <td>0</td>\n",
       "      <td>1</td>\n",
       "    </tr>\n",
       "    <tr>\n",
       "      <th>1542</th>\n",
       "      <td>2001-03-06 06:00:00</td>\n",
       "      <td>1</td>\n",
       "      <td>loanRequest</td>\n",
       "      <td>14179</td>\n",
       "      <td>1</td>\n",
       "      <td>0</td>\n",
       "      <td>2</td>\n",
       "    </tr>\n",
       "    <tr>\n",
       "      <th>2875</th>\n",
       "      <td>2001-04-30 19:00:00</td>\n",
       "      <td>1</td>\n",
       "      <td>loanRequest</td>\n",
       "      <td>15759</td>\n",
       "      <td>0</td>\n",
       "      <td>0</td>\n",
       "      <td>3</td>\n",
       "    </tr>\n",
       "    <tr>\n",
       "      <th>3685</th>\n",
       "      <td>2001-06-03 13:00:00</td>\n",
       "      <td>1</td>\n",
       "      <td>loanRequest</td>\n",
       "      <td>14721</td>\n",
       "      <td>1</td>\n",
       "      <td>0</td>\n",
       "      <td>4</td>\n",
       "    </tr>\n",
       "    <tr>\n",
       "      <th>4985</th>\n",
       "      <td>2001-07-27 17:00:00</td>\n",
       "      <td>1</td>\n",
       "      <td>loanRequest</td>\n",
       "      <td>17284</td>\n",
       "      <td>0</td>\n",
       "      <td>0</td>\n",
       "      <td>5</td>\n",
       "    </tr>\n",
       "    <tr>\n",
       "      <th>6201</th>\n",
       "      <td>2001-09-16 09:00:00</td>\n",
       "      <td>1</td>\n",
       "      <td>loanRequest</td>\n",
       "      <td>14934</td>\n",
       "      <td>1</td>\n",
       "      <td>0</td>\n",
       "      <td>6</td>\n",
       "    </tr>\n",
       "    <tr>\n",
       "      <th>6759</th>\n",
       "      <td>2001-10-09 15:00:00</td>\n",
       "      <td>1</td>\n",
       "      <td>loanRequest</td>\n",
       "      <td>14173</td>\n",
       "      <td>0</td>\n",
       "      <td>0</td>\n",
       "      <td>7</td>\n",
       "    </tr>\n",
       "    <tr>\n",
       "      <th>7264</th>\n",
       "      <td>2001-10-30 16:00:00</td>\n",
       "      <td>1</td>\n",
       "      <td>loanRequest</td>\n",
       "      <td>14319</td>\n",
       "      <td>1</td>\n",
       "      <td>0</td>\n",
       "      <td>8</td>\n",
       "    </tr>\n",
       "    <tr>\n",
       "      <th>7299</th>\n",
       "      <td>2001-11-01 03:00:00</td>\n",
       "      <td>1</td>\n",
       "      <td>loan</td>\n",
       "      <td>15896</td>\n",
       "      <td>1</td>\n",
       "      <td>1</td>\n",
       "      <td>9</td>\n",
       "    </tr>\n",
       "    <tr>\n",
       "      <th>7819</th>\n",
       "      <td>2001-11-22 19:00:00</td>\n",
       "      <td>1</td>\n",
       "      <td>loanRequest</td>\n",
       "      <td>15987</td>\n",
       "      <td>1</td>\n",
       "      <td>0</td>\n",
       "      <td>10</td>\n",
       "    </tr>\n",
       "    <tr>\n",
       "      <th>8389</th>\n",
       "      <td>2001-12-16 13:00:00</td>\n",
       "      <td>1</td>\n",
       "      <td>loan</td>\n",
       "      <td>16596</td>\n",
       "      <td>1</td>\n",
       "      <td>1</td>\n",
       "      <td>11</td>\n",
       "    </tr>\n",
       "    <tr>\n",
       "      <th>9041</th>\n",
       "      <td>2002-01-12 17:00:00</td>\n",
       "      <td>1</td>\n",
       "      <td>loanRequest</td>\n",
       "      <td>14583</td>\n",
       "      <td>1</td>\n",
       "      <td>0</td>\n",
       "      <td>12</td>\n",
       "    </tr>\n",
       "    <tr>\n",
       "      <th>658</th>\n",
       "      <td>2001-01-28 10:00:00</td>\n",
       "      <td>2</td>\n",
       "      <td>loanRequest</td>\n",
       "      <td>15895</td>\n",
       "      <td>1</td>\n",
       "      <td>0</td>\n",
       "      <td>1</td>\n",
       "    </tr>\n",
       "  </tbody>\n",
       "</table>\n",
       "</div>"
      ],
      "text/plain": [
       "                    time  user_id         type  amount  target  is_loan  \\\n",
       "913  2001-02-08 01:00:00        0  loanRequest   15192       0        0   \n",
       "1109 2001-02-16 05:00:00        0  loanRequest   13831       1        0   \n",
       "1523 2001-03-05 11:00:00        0  loanRequest   15580       1        0   \n",
       "1967 2001-03-23 23:00:00        0  loanRequest   16419       0        0   \n",
       "2085 2001-03-28 21:00:00        0  loanRequest   16067       0        0   \n",
       "2787 2001-04-27 03:00:00        0  loanRequest   16969       1        0   \n",
       "3208 2001-05-14 16:00:00        0  loanRequest   14689       1        0   \n",
       "3392 2001-05-22 08:00:00        0         loan   14605       1        1   \n",
       "4335 2001-06-30 15:00:00        0  loanRequest   13547       1        0   \n",
       "4754 2001-07-18 02:00:00        0  loanRequest   14525       0        0   \n",
       "4786 2001-07-19 10:00:00        0  loanRequest   14178       0        0   \n",
       "7042 2001-10-21 10:00:00        0  loanRequest   13610       0        0   \n",
       "8731 2001-12-30 19:00:00        0  loanRequest   14028       0        0   \n",
       "9347 2002-01-25 11:00:00        0  loanRequest   14709       1        0   \n",
       "9436 2002-01-29 04:00:00        0  loanRequest   15627       0        0   \n",
       "9833 2002-02-14 17:00:00        0  loanRequest   15119       1        0   \n",
       "9957 2002-02-19 21:00:00        0  loanRequest   14560       0        0   \n",
       "203  2001-01-09 11:00:00        1  loanRequest   14701       1        0   \n",
       "1542 2001-03-06 06:00:00        1  loanRequest   14179       1        0   \n",
       "2875 2001-04-30 19:00:00        1  loanRequest   15759       0        0   \n",
       "3685 2001-06-03 13:00:00        1  loanRequest   14721       1        0   \n",
       "4985 2001-07-27 17:00:00        1  loanRequest   17284       0        0   \n",
       "6201 2001-09-16 09:00:00        1  loanRequest   14934       1        0   \n",
       "6759 2001-10-09 15:00:00        1  loanRequest   14173       0        0   \n",
       "7264 2001-10-30 16:00:00        1  loanRequest   14319       1        0   \n",
       "7299 2001-11-01 03:00:00        1         loan   15896       1        1   \n",
       "7819 2001-11-22 19:00:00        1  loanRequest   15987       1        0   \n",
       "8389 2001-12-16 13:00:00        1         loan   16596       1        1   \n",
       "9041 2002-01-12 17:00:00        1  loanRequest   14583       1        0   \n",
       "658  2001-01-28 10:00:00        2  loanRequest   15895       1        0   \n",
       "\n",
       "      events_ordinal_number  \n",
       "913                       1  \n",
       "1109                      2  \n",
       "1523                      3  \n",
       "1967                      4  \n",
       "2085                      5  \n",
       "2787                      6  \n",
       "3208                      7  \n",
       "3392                      8  \n",
       "4335                      9  \n",
       "4754                     10  \n",
       "4786                     11  \n",
       "7042                     12  \n",
       "8731                     13  \n",
       "9347                     14  \n",
       "9436                     15  \n",
       "9833                     16  \n",
       "9957                     17  \n",
       "203                       1  \n",
       "1542                      2  \n",
       "2875                      3  \n",
       "3685                      4  \n",
       "4985                      5  \n",
       "6201                      6  \n",
       "6759                      7  \n",
       "7264                      8  \n",
       "7299                      9  \n",
       "7819                     10  \n",
       "8389                     11  \n",
       "9041                     12  \n",
       "658                       1  "
      ]
     },
     "execution_count": 169,
     "metadata": {},
     "output_type": "execute_result"
    }
   ],
   "source": [
    "calculate_events_number(df).sort_values(by=['user_id','time']).head(30)"
   ]
  },
  {
   "cell_type": "markdown",
   "metadata": {},
   "source": [
    "#### Признак `second_event_time`"
   ]
  },
  {
   "cell_type": "code",
   "execution_count": 170,
   "metadata": {
    "ExecuteTime": {
     "end_time": "2022-01-31T03:51:20.999794Z",
     "start_time": "2022-01-31T03:51:20.996142Z"
    }
   },
   "outputs": [],
   "source": [
    "# весь код расчета признака должен быть в этом методе\n",
    "def calculate_second_event_time(df):\n",
    "    df = calculate_events_number(df)\n",
    "    second_event = df[df['events_ordinal_number']== 2].groupby('user_id')[['user_id','time']].apply(lambda x:x)\n",
    "    second_event.rename(columns={'time':'second_event_time'},inplace=True)\n",
    "    df = df.merge(second_event,on='user_id')\n",
    "    return df"
   ]
  },
  {
   "cell_type": "code",
   "execution_count": 171,
   "metadata": {},
   "outputs": [],
   "source": [
    "#calculate_second_event_time(df).sort_values(by=['user_id','time']).head(30)"
   ]
  },
  {
   "cell_type": "markdown",
   "metadata": {},
   "source": [
    "#### Признак `loan_ordinal_number`"
   ]
  },
  {
   "cell_type": "code",
   "execution_count": 172,
   "metadata": {
    "ExecuteTime": {
     "end_time": "2022-01-31T03:51:22.879197Z",
     "start_time": "2022-01-31T03:51:22.875652Z"
    }
   },
   "outputs": [],
   "source": [
    "# весь код расчета признака должен быть в этом методе\n",
    "def calculate_loan_number(df):\n",
    "    #df = calculate_second_event_time(df)\n",
    "    df['loan_ordinal_number'] = df.sort_values('time').groupby('user_id').is_loan.apply(lambda x: x.shift(1).fillna(1).cumsum())\n",
    "    return df"
   ]
  },
  {
   "cell_type": "code",
   "execution_count": 173,
   "metadata": {},
   "outputs": [],
   "source": [
    "#calculate_loan_number(df).sort_values(by=['user_id','time']).head(30)"
   ]
  },
  {
   "cell_type": "markdown",
   "metadata": {},
   "source": [
    "#### Признак `events_time_diff`"
   ]
  },
  {
   "cell_type": "code",
   "execution_count": 174,
   "metadata": {
    "ExecuteTime": {
     "end_time": "2022-01-31T03:51:25.018203Z",
     "start_time": "2022-01-31T03:51:25.014557Z"
    }
   },
   "outputs": [],
   "source": [
    "# весь код расчета признака должен быть в этом методе\n",
    "def calculate_time_diff(df):\n",
    "    #df = calculate_loan_number(df)\n",
    "    df['events_time_diff'] = df.sort_values(by=['time']).groupby('user_id').time.apply(lambda x: abs(x.shift(1) - x))\n",
    "    return df"
   ]
  },
  {
   "cell_type": "code",
   "execution_count": 175,
   "metadata": {},
   "outputs": [],
   "source": [
    "#calculate_time_diff(df).sort_values(by=['user_id','time']).head(30)"
   ]
  },
  {
   "cell_type": "markdown",
   "metadata": {},
   "source": [
    "#### Признак `previous_loans_max_amount`"
   ]
  },
  {
   "cell_type": "code",
   "execution_count": 176,
   "metadata": {
    "ExecuteTime": {
     "end_time": "2022-01-31T03:51:26.966306Z",
     "start_time": "2022-01-31T03:51:26.961723Z"
    }
   },
   "outputs": [],
   "source": [
    "# весь код расчета признака должен быть в этом методе\n",
    "def calculate_previous_max_amount(df):\n",
    "    #df = calculate_time_diff(df)\n",
    "    df['loan'] = df['amount'] * df['is_loan'].replace({0: np.nan})\n",
    "    df['previous_loans_max_amount'] = df.sort_values(by=['time']).groupby('user_id').loan.apply(lambda x: x.shift(1).ffill())\n",
    "    df.drop(['loan'], axis=1, inplace=True)\n",
    "    return df"
   ]
  },
  {
   "cell_type": "code",
   "execution_count": 177,
   "metadata": {},
   "outputs": [],
   "source": [
    "#calculate_previous_max_amount(df).sort_values(by=['user_id','time']).head(30)"
   ]
  },
  {
   "cell_type": "markdown",
   "metadata": {},
   "source": [
    "### Сохранение итогового датасета с признаками\n",
    "\n",
    "Этот код трогать не нужно."
   ]
  },
  {
   "cell_type": "code",
   "execution_count": 178,
   "metadata": {
    "ExecuteTime": {
     "end_time": "2022-01-31T03:51:29.334833Z",
     "start_time": "2022-01-31T03:51:29.331495Z"
    }
   },
   "outputs": [],
   "source": [
    "def calculate_feature(df):\n",
    "    calculate_events_number(df)\n",
    "    calculate_second_event_time(df)\n",
    "    calculate_loan_number(df)\n",
    "    calculate_time_diff(df)\n",
    "    calculate_previous_max_amount(df)"
   ]
  },
  {
   "cell_type": "code",
   "execution_count": 179,
   "metadata": {
    "ExecuteTime": {
     "end_time": "2022-01-31T03:53:20.750966Z",
     "start_time": "2022-01-31T03:53:17.888812Z"
    }
   },
   "outputs": [
    {
     "name": "stdout",
     "output_type": "stream",
     "text": [
      "4.64 s ± 329 ms per loop (mean ± std. dev. of 7 runs, 1 loop each)\n"
     ]
    },
    {
     "data": {
      "text/plain": [
       "<TimeitResult : 4.64 s ± 329 ms per loop (mean ± std. dev. of 7 runs, 1 loop each)>"
      ]
     },
     "execution_count": 179,
     "metadata": {},
     "output_type": "execute_result"
    }
   ],
   "source": [
    "%%timeit -o \n",
    "calculate_feature(df)"
   ]
  },
  {
   "cell_type": "code",
   "execution_count": 180,
   "metadata": {
    "ExecuteTime": {
     "end_time": "2022-01-31T03:53:22.588760Z",
     "start_time": "2022-01-31T03:53:22.583736Z"
    }
   },
   "outputs": [],
   "source": [
    "columns = ['time']\n",
    "rez = _\n",
    "df_time = pd.DataFrame([rez], None, columns)\n",
    "df_time.to_csv('time.csv', index=False)"
   ]
  },
  {
   "cell_type": "code",
   "execution_count": 181,
   "metadata": {
    "ExecuteTime": {
     "end_time": "2022-01-27T10:22:50.404760Z",
     "start_time": "2022-01-27T10:22:50.349771Z"
    }
   },
   "outputs": [],
   "source": [
    "df.to_csv('test.csv', index=False)"
   ]
  }
 ],
 "metadata": {
  "interpreter": {
   "hash": "aee8b7b246df8f9039afb4144a1f6fd8d2ca17a180786b69acc140d282b71a49"
  },
  "kernelspec": {
   "display_name": "modp6130",
   "language": "python",
   "name": "python3"
  },
  "language_info": {
   "codemirror_mode": {
    "name": "ipython",
    "version": 3
   },
   "file_extension": ".py",
   "mimetype": "text/x-python",
   "name": "python",
   "nbconvert_exporter": "python",
   "pygments_lexer": "ipython3",
   "version": "3.10.1"
  },
  "varInspector": {
   "cols": {
    "lenName": 16,
    "lenType": 16,
    "lenVar": 40
   },
   "kernels_config": {
    "python": {
     "delete_cmd_postfix": "",
     "delete_cmd_prefix": "del ",
     "library": "var_list.py",
     "varRefreshCmd": "print(var_dic_list())"
    },
    "r": {
     "delete_cmd_postfix": ") ",
     "delete_cmd_prefix": "rm(",
     "library": "var_list.r",
     "varRefreshCmd": "cat(var_dic_list()) "
    }
   },
   "types_to_exclude": [
    "module",
    "function",
    "builtin_function_or_method",
    "instance",
    "_Feature"
   ],
   "window_display": false
  }
 },
 "nbformat": 4,
 "nbformat_minor": 4
}
